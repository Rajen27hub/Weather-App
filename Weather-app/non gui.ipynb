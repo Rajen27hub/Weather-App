{
 "cells": [
  {
   "cell_type": "code",
   "execution_count": 2,
   "id": "688fde92",
   "metadata": {},
   "outputs": [
    {
     "name": "stdout",
     "output_type": "stream",
     "text": [
      "Enter city name: sihor\n",
      "\n",
      "Location: Sihor, Gujarat\n",
      "\n",
      "Day: Tuesday\n",
      "\n",
      "Weather: Partly cloudy\n",
      "\n",
      "Temperature: 33 degree celsius\n",
      "\n",
      "\n"
     ]
    }
   ],
   "source": [
    "from tkinter import *\n",
    "import requests\n",
    "import bs4\n",
    "\n",
    "def weather():\n",
    "    global l2\n",
    "    global cityname\n",
    "    global days\n",
    "    global lw\n",
    "    cityname=input(\"Enter city name: \")\n",
    "    days=\"today\"\n",
    "    \n",
    "    url='https://www.google.com/search?q=%s+weather+%s'%(cityname,days)\n",
    "\n",
    "    headers={'User-Agent': 'Mozilla/5.0 (Windows NT 6.1) AppleWebKit/537.36 (KHTML, like Gecko) Chrome/85.0.4183.83 Safari/537.36',}\n",
    "    css='#wob_tm'\n",
    "    \n",
    "    request=requests.get(url,headers=headers)\n",
    "    request.raise_for_status()\n",
    "    soup=bs4.BeautifulSoup(request.text,\"html.parser\")\n",
    "    \n",
    "    temperature=soup.select('#wob_tm')\n",
    "    timedate=soup.select('#wob_dts')\n",
    "    location=soup.select('#wob_loc')\n",
    "    weathercondition=soup.select('#wob_dc')\n",
    "    \n",
    "    l=location[0].text\n",
    "    t=timedate[0].text\n",
    "    w=weathercondition[0].text\n",
    "    temp=temperature[0].text\n",
    "\n",
    "    a=\"\\nLocation: %s\\n\\nDay: %s\\n\\nWeather: %s\\n\\nTemperature: %s degree celsius\\n\\n\"%(l,t,w,temp)\n",
    "    \n",
    "    print(a)\n",
    "\n",
    "weather()\n"
   ]
  },
  {
   "cell_type": "code",
   "execution_count": null,
   "id": "3eb30cb1",
   "metadata": {},
   "outputs": [],
   "source": []
  }
 ],
 "metadata": {
  "kernelspec": {
   "display_name": "Python 3",
   "language": "python",
   "name": "python3"
  },
  "language_info": {
   "codemirror_mode": {
    "name": "ipython",
    "version": 3
   },
   "file_extension": ".py",
   "mimetype": "text/x-python",
   "name": "python",
   "nbconvert_exporter": "python",
   "pygments_lexer": "ipython3",
   "version": "3.8.8"
  }
 },
 "nbformat": 4,
 "nbformat_minor": 5
}
